{
 "cells": [
  {
   "cell_type": "markdown",
   "metadata": {},
   "source": [
    "As Bandas de Bollinger são um indicador técnico composto por três linhas: uma média móvel central e duas bandas, superior e inferior, que medem a volatilidade do preço. Elas ajudam a identificar possíveis pontos de compra ou venda."
   ]
  },
  {
   "cell_type": "code",
   "execution_count": 2,
   "metadata": {},
   "outputs": [],
   "source": [
    "from dotenv import load_dotenv\n",
    "import os\n",
    "import pandas as pd\n",
    "import ccxt\n",
    "\n",
    "load_dotenv()\n",
    "\n",
    "binance_api_key = os.getenv(\"BINANCE_API_KEY\")\n",
    "binance_api_secret = os.getenv(\"BINANCE_API_SECRET\")\n",
    "\n",
    "binance = ccxt.binance({\n",
    "    \"enableRateLimit\": True,\n",
    "    \"options\": {\n",
    "        \"defaultType\": \"future\"\n",
    "    },\n",
    "    \"apiKey\": binance_api_key,\n",
    "    \"secret\": binance_api_secret,\n",
    "})\n",
    "\n",
    "symbol = \"BTCUSDT\"\n",
    "timeframe = \"1h\"\n",
    "bars = binance.fetch_ohlcv(symbol, timeframe, limit=500)\n",
    "\n",
    "df_candles = pd.DataFrame(bars, columns=[\"time\", \"abertura\", \"max\", \"min\", \"fechamento\", \"volume\"])\n",
    "df_candles[\"time\"] = pd.to_datetime(df_candles[\"time\"], unit=\"ms\", utc=True).map(lambda x: x.tz_convert(\"America/Sao_Paulo\"))"
   ]
  },
  {
   "cell_type": "code",
   "execution_count": null,
   "metadata": {},
   "outputs": [],
   "source": []
  }
 ],
 "metadata": {
  "kernelspec": {
   "display_name": ".venv",
   "language": "python",
   "name": "python3"
  },
  "language_info": {
   "codemirror_mode": {
    "name": "ipython",
    "version": 3
   },
   "file_extension": ".py",
   "mimetype": "text/x-python",
   "name": "python",
   "nbconvert_exporter": "python",
   "pygments_lexer": "ipython3",
   "version": "3.12.0"
  }
 },
 "nbformat": 4,
 "nbformat_minor": 2
}
