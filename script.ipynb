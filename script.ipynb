{
 "cells": [
  {
   "cell_type": "code",
   "execution_count": null,
   "metadata": {},
   "outputs": [
    {
     "data": {
      "text/plain": [
       "True"
      ]
     },
     "execution_count": 33,
     "metadata": {},
     "output_type": "execute_result"
    }
   ],
   "source": [
    "from dotenv import load_dotenv\n",
    "import os\n",
    "import pandas as pd\n",
    "import ccxt\n",
    "import pandas_ta as ta\n",
    "import decimal\n",
    "import time\n",
    "\n",
    "load_dotenv()"
   ]
  },
  {
   "cell_type": "code",
   "execution_count": 2,
   "metadata": {},
   "outputs": [],
   "source": [
    "binance_api_key = os.getenv(\"BINANCE_API_KEY\")\n",
    "binance_api_secret = os.getenv(\"BINANCE_API_SECRET\")"
   ]
  },
  {
   "cell_type": "code",
   "execution_count": 25,
   "metadata": {},
   "outputs": [],
   "source": [
    "binance = ccxt.binance({\n",
    "    \"enableRateLimit\": True,\n",
    "    \"options\": {\n",
    "        \"defaultType\": \"future\"\n",
    "    },\n",
    "    \"apiKey\": binance_api_key,\n",
    "    \"secret\": binance_api_secret,\n",
    "})\n",
    "\n",
    "symbols = [\"XRPUSDT\"]\n",
    "bal = binance.fetch_positions(symbols=symbols)"
   ]
  },
  {
   "cell_type": "code",
   "execution_count": null,
   "metadata": {},
   "outputs": [
    {
     "name": "stdout",
     "output_type": "stream",
     "text": [
      "2.519200000000000105870867628254927694797515869140625 2.519299999999999872812850298942066729068756103515625\n"
     ]
    }
   ],
   "source": [
    "def livro_ofertas(symbol):\n",
    "    livro_ofertas = binance.fetch_order_book(symbol)\n",
    "    bid = decimal.Decimal(livro_ofertas[\"bids\"][0][0])\n",
    "    ask = decimal.Decimal(livro_ofertas[\"asks\"][0][0])\n",
    "    return bid, ask"
   ]
  },
  {
   "cell_type": "code",
   "execution_count": null,
   "metadata": {},
   "outputs": [],
   "source": [
    "def posicoes_abertas(symbol):\n",
    "    lado = []\n",
    "    tamanho = []\n",
    "    preco_entrada = []\n",
    "    notional = []\n",
    "    percentage = []\n",
    "    pnl = []\n",
    "\n",
    "    bal = binance.fetch_positions(symbols=[symbol])\n",
    "    for i in bal:\n",
    "        lado = i[\"side\"]\n",
    "        tamanho = i[\"info\"][\"positionAmt\"].replace(\"-\", \"\")\n",
    "        preco_entrada = i[\"entryPrice\"]\n",
    "        notional = i[\"notional\"]\n",
    "        percentage = i[\"percentage\"]\n",
    "        pnl = i[\"info\"][\"unRealizedProfit\"]\n",
    "\n",
    "    if lado in [\"long\", \"short\"]:\n",
    "        pos_aberta = True\n",
    "    else :\n",
    "        pos_aberta = False\n",
    "\n",
    "    return lado, tamanho, preco_entrada, pos_aberta, notional, percentage, pnl\n",
    "\n",
    "tamanho_exposto = posicoes_abertas(\"XRPUSDT\")[1]\n",
    "print(tamanho_exposto)"
   ]
  },
  {
   "cell_type": "code",
   "execution_count": null,
   "metadata": {},
   "outputs": [],
   "source": [
    "symbol = \"XRPUSDT\"\n",
    "pos_aberta = posicoes_abertas(symbol)[3]\n",
    "\n",
    "def encerra_posicao(symbol):\n",
    "    pos_aberta = posicoes_abertas(symbol)[3]    \n",
    "    while pos_aberta:\n",
    "        posicoes_abertas_var = posicoes_abertas(symbol)\n",
    "        lado = posicoes_abertas_var[0]\n",
    "        tamanho = posicoes_abertas_var[1]\n",
    "\n",
    "        if lado == \"long\":\n",
    "            binance.cancel_all_orders(symbol)\n",
    "            bid, ask = livro_ofertas(symbol)\n",
    "            ask = binance.price_to_precision(symbol, ask)\n",
    "            binance.create_order(symbol=symbol, type=\"limit\", side=\"sell\", price=ask, amount=tamanho, params={\"hedged\": True})\n",
    "            # msg = \"Vendendo posição...\"\n",
    "            # telegram \n",
    "            time.sleep(20)\n",
    "            \n",
    "        elif lado == \"short\":\n",
    "            binance.cancel_all_orders(symbol)        \n",
    "            bid, ask = livro_ofertas(symbol)\n",
    "            bid = binance.price_to_precision(symbol, bid)\n",
    "            binance.create_order(symbol=symbol, type=\"limit\", side=\"buy\", price=bid, amount=tamanho, params={\"hedged\": True})\n",
    "            time.sleep(20)     \n",
    "\n",
    "        if not posicoes_abertas_var[3]:\n",
    "            pos_aberta = False"
   ]
  },
  {
   "cell_type": "code",
   "execution_count": null,
   "metadata": {},
   "outputs": [],
   "source": [
    "loss = -10\n",
    "target = 20\n",
    "\n",
    "def fecha_pnl(symbol, loss, target):\n",
    "    posicoes_abertas_var = posicoes_abertas(symbol)\n",
    "    percent = posicoes_abertas_var[5]\n",
    "    pnl = posicoes_abertas_var[6]\n",
    "\n",
    "    if percent:\n",
    "        if percent < loss:\n",
    "            encerra_posicao(symbol)\n",
    "            print(f\"Posição encerrada por stop loss {pnl}\")\n",
    "            # telegram\n",
    "        elif percent >= target:\n",
    "            encerra_posicao(symbol)\n",
    "            print(f\"Posição encerrada por take profit {pnl}\")\n",
    "            # telegram"
   ]
  },
  {
   "cell_type": "code",
   "execution_count": null,
   "metadata": {},
   "outputs": [],
   "source": [
    "posicoes_abertas_var = posicoes_abertas(symbol)\n",
    "tamanho_exposto = posicoes_abertas_var[1]\n",
    "max_tamanho_exposto = 4000\n",
    "\n",
    "if isinstance(tamanho_exposto, float) and float(tamanho_exposto) >= max_tamanho_exposto:\n",
    "    max_tamanho_exposto_atingido = True\n",
    "else:\n",
    "    max_tamanho_exposto_atingido = False\n",
    "    "
   ]
  },
  {
   "cell_type": "code",
   "execution_count": 17,
   "metadata": {},
   "outputs": [],
   "source": [
    "symbol = \"BTCUSDT\"\n",
    "timeframe = \"5m\"\n",
    "bars = binance.fetch_ohlcv(symbol, timeframe, limit=100)"
   ]
  },
  {
   "cell_type": "code",
   "execution_count": 18,
   "metadata": {},
   "outputs": [],
   "source": [
    "df_candles = pd.DataFrame(bars, columns=[\"time\", \"abertura\", \"max\", \"min\", \"fechamento\", \"volume\"])\n",
    "df_candles[\"time\"] = pd.to_datetime(df_candles[\"time\"], unit=\"ms\", utc=True).map(lambda x: x.tz_convert(\"America/Sao_Paulo\"))"
   ]
  },
  {
   "cell_type": "code",
   "execution_count": 22,
   "metadata": {},
   "outputs": [
    {
     "data": {
      "text/plain": [
       "<Axes: >"
      ]
     },
     "execution_count": 22,
     "metadata": {},
     "output_type": "execute_result"
    },
    {
     "data": {
      "image/png": "[encoded data removed]",
      "text/plain": [
       "<Figure size 640x480 with 1 Axes>"
      ]
     },
     "metadata": {},
     "output_type": "display_data"
    }
   ],
   "source": [
    "df_candles[\"fechamento\"].plot()"
   ]
  }
 ],
 "metadata": {
  "kernelspec": {
   "display_name": ".venv",
   "language": "python",
   "name": "python3"
  },
  "language_info": {
   "codemirror_mode": {
    "name": "ipython",
    "version": 3
   },
   "file_extension": ".py",
   "mimetype": "text/x-python",
   "name": "python",
   "nbconvert_exporter": "python",
   "pygments_lexer": "ipython3",
   "version": "3.12.0"
  }
 },
 "nbformat": 4,
 "nbformat_minor": 2
}
